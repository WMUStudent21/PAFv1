{
 "cells": [
  {
   "cell_type": "code",
   "execution_count": 1,
   "metadata": {},
   "outputs": [],
   "source": [
    "# %pip install pandas\n",
    "# %pip install scikit-learn\n",
    "# %pip install numpy"
   ]
  },
  {
   "cell_type": "code",
   "execution_count": 2,
   "metadata": {},
   "outputs": [],
   "source": [
    "import pandas as pd\n",
    "import numpy as np\n",
    "from sklearn.linear_model import LogisticRegression\n",
    "from sklearn.model_selection import RepeatedKFold, train_test_split\n",
    "\n",
    "LR = LogisticRegression()\n",
    "kf = RepeatedKFold(n_splits=10, n_repeats=5)"
   ]
  },
  {
   "cell_type": "markdown",
   "metadata": {},
   "source": [
    "### 3-step sliding frame dataset ###"
   ]
  },
  {
   "cell_type": "code",
   "execution_count": 5,
   "metadata": {},
   "outputs": [
    {
     "ename": "ValueError",
     "evalue": "Unknown label type: 'continuous'",
     "output_type": "error",
     "traceback": [
      "\u001b[1;31m---------------------------------------------------------------------------\u001b[0m",
      "\u001b[1;31mValueError\u001b[0m                                Traceback (most recent call last)",
      "\u001b[1;32mc:\\Users\\mhg0694\\Downloads\\PAFv1-main\\main.ipynb Cell 4'\u001b[0m in \u001b[0;36m<cell line: 34>\u001b[1;34m()\u001b[0m\n\u001b[0;32m     <a href='vscode-notebook-cell:/c%3A/Users/mhg0694/Downloads/PAFv1-main/main.ipynb#ch0000002?line=28'>29</a>\u001b[0m \u001b[39m# Residual derived from difference in predicted and true\u001b[39;00m\n\u001b[0;32m     <a href='vscode-notebook-cell:/c%3A/Users/mhg0694/Downloads/PAFv1-main/main.ipynb#ch0000002?line=29'>30</a>\u001b[0m \u001b[39m# Logistic Regression with 70/30 train-test-split\u001b[39;00m\n\u001b[0;32m     <a href='vscode-notebook-cell:/c%3A/Users/mhg0694/Downloads/PAFv1-main/main.ipynb#ch0000002?line=31'>32</a>\u001b[0m x_train, x_test, y_train, y_test \u001b[39m=\u001b[39m train_test_split(x1,y1, test_size\u001b[39m=\u001b[39m\u001b[39m0.3\u001b[39m)\n\u001b[1;32m---> <a href='vscode-notebook-cell:/c%3A/Users/mhg0694/Downloads/PAFv1-main/main.ipynb#ch0000002?line=33'>34</a>\u001b[0m LR\u001b[39m.\u001b[39;49mfit(x_train, y_train)\n\u001b[0;32m     <a href='vscode-notebook-cell:/c%3A/Users/mhg0694/Downloads/PAFv1-main/main.ipynb#ch0000002?line=34'>35</a>\u001b[0m y_hat1 \u001b[39m=\u001b[39m LR\u001b[39m.\u001b[39mpredict(x_test)\n",
      "File \u001b[1;32mc:\\Users\\mhg0694\\AppData\\Local\\Programs\\Python\\Python310\\lib\\site-packages\\sklearn\\linear_model\\_logistic.py:1516\u001b[0m, in \u001b[0;36mLogisticRegression.fit\u001b[1;34m(self, X, y, sample_weight)\u001b[0m\n\u001b[0;32m   <a href='file:///c%3A/Users/mhg0694/AppData/Local/Programs/Python/Python310/lib/site-packages/sklearn/linear_model/_logistic.py?line=1505'>1506</a>\u001b[0m     _dtype \u001b[39m=\u001b[39m [np\u001b[39m.\u001b[39mfloat64, np\u001b[39m.\u001b[39mfloat32]\n\u001b[0;32m   <a href='file:///c%3A/Users/mhg0694/AppData/Local/Programs/Python/Python310/lib/site-packages/sklearn/linear_model/_logistic.py?line=1507'>1508</a>\u001b[0m X, y \u001b[39m=\u001b[39m \u001b[39mself\u001b[39m\u001b[39m.\u001b[39m_validate_data(\n\u001b[0;32m   <a href='file:///c%3A/Users/mhg0694/AppData/Local/Programs/Python/Python310/lib/site-packages/sklearn/linear_model/_logistic.py?line=1508'>1509</a>\u001b[0m     X,\n\u001b[0;32m   <a href='file:///c%3A/Users/mhg0694/AppData/Local/Programs/Python/Python310/lib/site-packages/sklearn/linear_model/_logistic.py?line=1509'>1510</a>\u001b[0m     y,\n\u001b[1;32m   (...)\u001b[0m\n\u001b[0;32m   <a href='file:///c%3A/Users/mhg0694/AppData/Local/Programs/Python/Python310/lib/site-packages/sklearn/linear_model/_logistic.py?line=1513'>1514</a>\u001b[0m     accept_large_sparse\u001b[39m=\u001b[39msolver \u001b[39mnot\u001b[39;00m \u001b[39min\u001b[39;00m [\u001b[39m\"\u001b[39m\u001b[39mliblinear\u001b[39m\u001b[39m\"\u001b[39m, \u001b[39m\"\u001b[39m\u001b[39msag\u001b[39m\u001b[39m\"\u001b[39m, \u001b[39m\"\u001b[39m\u001b[39msaga\u001b[39m\u001b[39m\"\u001b[39m],\n\u001b[0;32m   <a href='file:///c%3A/Users/mhg0694/AppData/Local/Programs/Python/Python310/lib/site-packages/sklearn/linear_model/_logistic.py?line=1514'>1515</a>\u001b[0m )\n\u001b[1;32m-> <a href='file:///c%3A/Users/mhg0694/AppData/Local/Programs/Python/Python310/lib/site-packages/sklearn/linear_model/_logistic.py?line=1515'>1516</a>\u001b[0m check_classification_targets(y)\n\u001b[0;32m   <a href='file:///c%3A/Users/mhg0694/AppData/Local/Programs/Python/Python310/lib/site-packages/sklearn/linear_model/_logistic.py?line=1516'>1517</a>\u001b[0m \u001b[39mself\u001b[39m\u001b[39m.\u001b[39mclasses_ \u001b[39m=\u001b[39m np\u001b[39m.\u001b[39munique(y)\n\u001b[0;32m   <a href='file:///c%3A/Users/mhg0694/AppData/Local/Programs/Python/Python310/lib/site-packages/sklearn/linear_model/_logistic.py?line=1518'>1519</a>\u001b[0m multi_class \u001b[39m=\u001b[39m _check_multi_class(\u001b[39mself\u001b[39m\u001b[39m.\u001b[39mmulti_class, solver, \u001b[39mlen\u001b[39m(\u001b[39mself\u001b[39m\u001b[39m.\u001b[39mclasses_))\n",
      "File \u001b[1;32mc:\\Users\\mhg0694\\AppData\\Local\\Programs\\Python\\Python310\\lib\\site-packages\\sklearn\\utils\\multiclass.py:197\u001b[0m, in \u001b[0;36mcheck_classification_targets\u001b[1;34m(y)\u001b[0m\n\u001b[0;32m    <a href='file:///c%3A/Users/mhg0694/AppData/Local/Programs/Python/Python310/lib/site-packages/sklearn/utils/multiclass.py?line=188'>189</a>\u001b[0m y_type \u001b[39m=\u001b[39m type_of_target(y)\n\u001b[0;32m    <a href='file:///c%3A/Users/mhg0694/AppData/Local/Programs/Python/Python310/lib/site-packages/sklearn/utils/multiclass.py?line=189'>190</a>\u001b[0m \u001b[39mif\u001b[39;00m y_type \u001b[39mnot\u001b[39;00m \u001b[39min\u001b[39;00m [\n\u001b[0;32m    <a href='file:///c%3A/Users/mhg0694/AppData/Local/Programs/Python/Python310/lib/site-packages/sklearn/utils/multiclass.py?line=190'>191</a>\u001b[0m     \u001b[39m\"\u001b[39m\u001b[39mbinary\u001b[39m\u001b[39m\"\u001b[39m,\n\u001b[0;32m    <a href='file:///c%3A/Users/mhg0694/AppData/Local/Programs/Python/Python310/lib/site-packages/sklearn/utils/multiclass.py?line=191'>192</a>\u001b[0m     \u001b[39m\"\u001b[39m\u001b[39mmulticlass\u001b[39m\u001b[39m\"\u001b[39m,\n\u001b[1;32m   (...)\u001b[0m\n\u001b[0;32m    <a href='file:///c%3A/Users/mhg0694/AppData/Local/Programs/Python/Python310/lib/site-packages/sklearn/utils/multiclass.py?line=194'>195</a>\u001b[0m     \u001b[39m\"\u001b[39m\u001b[39mmultilabel-sequences\u001b[39m\u001b[39m\"\u001b[39m,\n\u001b[0;32m    <a href='file:///c%3A/Users/mhg0694/AppData/Local/Programs/Python/Python310/lib/site-packages/sklearn/utils/multiclass.py?line=195'>196</a>\u001b[0m ]:\n\u001b[1;32m--> <a href='file:///c%3A/Users/mhg0694/AppData/Local/Programs/Python/Python310/lib/site-packages/sklearn/utils/multiclass.py?line=196'>197</a>\u001b[0m     \u001b[39mraise\u001b[39;00m \u001b[39mValueError\u001b[39;00m(\u001b[39m\"\u001b[39m\u001b[39mUnknown label type: \u001b[39m\u001b[39m%r\u001b[39;00m\u001b[39m\"\u001b[39m \u001b[39m%\u001b[39m y_type)\n",
      "\u001b[1;31mValueError\u001b[0m: Unknown label type: 'continuous'"
     ]
    }
   ],
   "source": [
    "# Adding the truth values\n",
    "ground_truth = pd.read_csv(\"ground_truth.csv\", usecols=['time_local', 'Total_Number_Incidents'])\n",
    "ground_truth['time_local'] = pd.to_datetime(ground_truth.time_local)\n",
    "\n",
    "# Processing train.csv\n",
    "df_3step = pd.read_csv(\"train_P.csv\", usecols=['time', 'RUC', 'kappa', 'sliding_frame'], index_col=False)\n",
    "df_3step['time'] = pd.to_datetime(df_3step.time)\n",
    "df_3step = df_3step.merge(ground_truth, how=\"left\", left_on=\"time\", right_on='time_local')\n",
    "df_3step['Total_Number_Incidents'] = df_3step['Total_Number_Incidents'].fillna(0)\n",
    "\n",
    "\n",
    "\n",
    "# Filtered data and count (.shape)\n",
    "df_3step = df_3step[(df_3step[\"sliding_frame\"] == 3) & (df_3step[\"kappa\"] == 0.25)]\n",
    "\n",
    "# Positive (3, 0.25)\n",
    "p3s_ruc = df_3step[df_3step[\"RUC\"] > 0]\n",
    "n_p = p3s_ruc.shape[0]\n",
    "\n",
    "# Negative (3, 0.25)\n",
    "n3s_ruc = df_3step[df_3step[\"RUC\"] < 0]\n",
    "n_n = n3s_ruc.shape[0]\n",
    "\n",
    "x1 = np.array(range(0,n_p)).reshape(-1,1)\n",
    "y1 = np.array(p3s_ruc[\"RUC\"])\n",
    "\n",
    "\n",
    "\n",
    "# Residual derived from difference in predicted and true\n",
    "# Logistic Regression with 70/30 train-test-split\n",
    "\n",
    "x_train, x_test, y_train, y_test = train_test_split(x1,y1, test_size=0.3)\n",
    "\n",
    "LR.fit(x_train, y_train)\n",
    "y_hat1 = LR.predict(x_test)\n",
    "\n",
    "# res = y1-y_hat1\n",
    "\n",
    "\n",
    "# / We perform our machine learning models, and check its performance using the loss functions /\n",
    "# We are doing a binary classification-type problem.\n",
    "# We can study certain RUC values.? (confused)"
   ]
  },
  {
   "cell_type": "code",
   "execution_count": 8,
   "metadata": {},
   "outputs": [
    {
     "data": {
      "text/plain": [
       "array([[    0],\n",
       "       [    1],\n",
       "       [    2],\n",
       "       ...,\n",
       "       [21017],\n",
       "       [21018],\n",
       "       [21019]])"
      ]
     },
     "execution_count": 8,
     "metadata": {},
     "output_type": "execute_result"
    }
   ],
   "source": [
    "# /Testing window /\n",
    "\n",
    "\n",
    "# df_3step.to_csv('merged.csv', index = False)\n",
    "# p3s_ruc.to_csv('merged.csv', index = False)\n",
    "\n",
    "# p3s_ruc.head()\n",
    "x1"
   ]
  },
  {
   "cell_type": "code",
   "execution_count": null,
   "metadata": {},
   "outputs": [
    {
     "name": "stdout",
     "output_type": "stream",
     "text": [
      "We expect to be able to detect 95.0% of accidents if we treat all RUCs higher than 0.122 as accidents.\n"
     ]
    }
   ],
   "source": [
    "df = df_3step[df_3step[\"Total_Number_Incidents\"] > 0]\n",
    "NAME_OF_PREDICTION_VARIABLE = \"RUC\"\n",
    "PERCENT_OF_ACCIDENTS_DETECTED = 0.95\n",
    "ruc = round(df.quantile(PERCENT_OF_ACCIDENTS_DETECTED)[NAME_OF_PREDICTION_VARIABLE], 3)\n",
    "print(f\"We expect to be able to detect {PERCENT_OF_ACCIDENTS_DETECTED * 100}% of accidents if we treat all RUCs higher than {ruc} as accidents.\")"
   ]
  },
  {
   "cell_type": "markdown",
   "metadata": {},
   "source": [
    "**Loss Functions and M-estimators**"
   ]
  },
  {
   "cell_type": "code",
   "execution_count": null,
   "metadata": {},
   "outputs": [
    {
     "name": "stdout",
     "output_type": "stream",
     "text": [
      "1.3900039474232169e-06 1.3900319495150136e-06\n"
     ]
    }
   ],
   "source": [
    "# # MA |y-h(x)|\n",
    "def MAE(y, y_hat, n):\n",
    "    # sum = 0\n",
    "    # for i in range(n):\n",
    "    #     sum += abs(y_hat[i] - y[i])\n",
    "    # return sum/n\n",
    "    return np.absolute(np.subtract(y_hat,y)).mean()\n",
    "# # MS (y-h(x))^2\n",
    "def MSE(y, y_hat):\n",
    "    return np.square(np.subtract(y,y_hat)).mean()\n",
    "''' Implement Scaling Hyperparams'''\n",
    "# # Huber\n",
    "class Hub():\n",
    "    def one(res, n, b):     # finding optimal tau\n",
    "        huber_lf_1 = []\n",
    "        huber_lf_2 = []\n",
    "        tau_list = []\n",
    "        count = 0\n",
    "        for j in b:\n",
    "            tau_list.append(j)\n",
    "            for i in range (n):\n",
    "                if res[i] < j:\n",
    "                    huber_lf_1.append(count + ((res[i])**2)/2)\n",
    "                else:\n",
    "                    huber_lf_2.append(count + (j*abs(res[i])) - ((j**2)/2))\n",
    "            count += 1\n",
    "        if huber_lf_1 == False:\n",
    "            ix = int(str(int(min(huber_lf_2)))[:1])\n",
    "            # print(\"Optimal Huber distance:\", min(huber_lf_2))\n",
    "            return (tau_list[ix], min(huber_lf_2))\n",
    "        elif huber_lf_2 == False:\n",
    "            ix = int(str(int(min(huber_lf_1)))[:1])\n",
    "            return (tau_list[ix], min(huber_lf_1))\n",
    "\n",
    "        else:\n",
    "            if min(huber_lf_2) > min(huber_lf_1):\n",
    "                ix = int(str(int(min(huber_lf_1)))[:1])\n",
    "                return (tau_list[ix], min(huber_lf_1))\n",
    "            else:\n",
    "                ix = int(str(int(min(huber_lf_2)))[:1])\n",
    "                return (tau_list[ix], min(huber_lf_1))\n",
    "\n",
    "    def two(res, n, b):     # testing tau value, returns hub_loss for input tau\n",
    "        huber_lf_1 = []\n",
    "        huber_lf_2 = []\n",
    "        for i in range (n):\n",
    "            if res[i] < b:\n",
    "                huber_lf_1.append(((res[i])**2)/2)\n",
    "            else:\n",
    "                huber_lf_2.append((b*abs(res[i])) - ((b**2)/2))\n",
    "        if min(huber_lf_2) > min(huber_lf_1):\n",
    "            return huber_lf_1\n",
    "        else:\n",
    "            return huber_lf_2\n",
    "# # Cauchy\n",
    "class Cau():\n",
    "    def one(res, n, b):      # finding optimal tau\n",
    "        cauchy_lf = []\n",
    "        tau_list = []\n",
    "        count = 0\n",
    "        for j in b:\n",
    "            tau_list.append(j)\n",
    "            for i in range (n):\n",
    "                cauchy_lf.append(count + ((j**2) * np.log(1+(((res[i])**2)/(j**2)))))\n",
    "            count += 1\n",
    "\n",
    "        ix = int(str(int(min(cauchy_lf)))[:1])\n",
    "        return (tau_list[ix], min(cauchy_lf))\n",
    "        \n",
    "    def two(res, n, b):     # testing tau value, returns cauchy for input tau\n",
    "        cauchy_lf = []\n",
    "        for i in range (n):\n",
    "            cauchy_lf.append(((b**2) * np.log(1+(((res[i])**2)/(b**2)))))\n",
    "        return cauchy_lf\n",
    "\n",
    "\n",
    "############# VALUES ################\n",
    "\n",
    "# MAE/ MSE\n",
    "abs_ruc_p = MAE(y1,y_hat1,n_p)\n",
    "sq_ruc_p = MSE(y1,y_hat1)\n",
    "\n",
    "# Tau hyperparameter range and step (alpha) \n",
    "b_min = min(y1)\n",
    "b_max = max(y1)\n",
    "alpha = np.median(y1)\n",
    "b_p = np.arange(b_min,b_max,alpha)\n",
    "\n",
    "\n",
    "# Objective: see if M-estimators perform better than MAE/MSE\n",
    "# K-fold x-val 10 splits, repeated 5 times\n",
    "scores_hub = []\n",
    "scores_cauc = []\n",
    "for train_ix, test_ix in kf.split(res):\n",
    "    y_train = res[train_ix]\n",
    "    scores_hub.append(Hub.one(y_train, train_ix.shape[0], b_p))\n",
    "    scores_cauc.append(Cau.one(y_train, train_ix.shape[0], b_p))\n",
    "\n",
    "# UD variable for tau_min\n",
    "tmin_h = np.mean(scores_hub)\n",
    "tmin_c= np.mean(scores_cauc)\n",
    "\n",
    "\n",
    "print(tmin_c,tmin_h)\n",
    "# print(sq_ruc_p,Hub.two(res,n_p,tmin_h))\n",
    "# print(\"\\nHuber ERV: \", hub_ruc_p, \"\\nCauchy ERV: \",cau_ruc_p, \"\\nMAE:\" , abs_ruc_p,\"\\nMSE:\" , sq_ruc_p)"
   ]
  }
 ],
 "metadata": {
  "interpreter": {
   "hash": "40b299b9aa05c7aba1edee11e23fdf4ea17c4f193bd7a6be3fc875fc5c6ea0ab"
  },
  "kernelspec": {
   "display_name": "Python 3 (ipykernel)",
   "language": "python",
   "name": "python3"
  },
  "language_info": {
   "codemirror_mode": {
    "name": "ipython",
    "version": 3
   },
   "file_extension": ".py",
   "mimetype": "text/x-python",
   "name": "python",
   "nbconvert_exporter": "python",
   "pygments_lexer": "ipython3",
   "version": "3.10.4"
  }
 },
 "nbformat": 4,
 "nbformat_minor": 2
}