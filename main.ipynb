{
 "cells": [
  {
   "cell_type": "code",
   "execution_count": 1,
   "metadata": {},
   "outputs": [],
   "source": [
    "# %pip install pandas\n",
    "# %pip install scikit-learn\n",
    "# %pip install numpy"
   ]
  },
  {
   "cell_type": "code",
   "execution_count": 15,
   "metadata": {},
   "outputs": [
    {
     "ename": "ModuleNotFoundError",
     "evalue": "No module named 'matplotlib'",
     "output_type": "error",
     "traceback": [
      "\u001B[1;31m---------------------------------------------------------------------------\u001B[0m",
      "\u001B[1;31mModuleNotFoundError\u001B[0m                       Traceback (most recent call last)",
      "Input \u001B[1;32mIn [15]\u001B[0m, in \u001B[0;36m<cell line: 6>\u001B[1;34m()\u001B[0m\n\u001B[0;32m      4\u001B[0m \u001B[38;5;28;01mfrom\u001B[39;00m \u001B[38;5;21;01msklearn\u001B[39;00m\u001B[38;5;21;01m.\u001B[39;00m\u001B[38;5;21;01mmodel_selection\u001B[39;00m \u001B[38;5;28;01mimport\u001B[39;00m RepeatedKFold, train_test_split\n\u001B[0;32m      5\u001B[0m \u001B[38;5;28;01mfrom\u001B[39;00m \u001B[38;5;21;01msklearn\u001B[39;00m\u001B[38;5;21;01m.\u001B[39;00m\u001B[38;5;21;01mmetrics\u001B[39;00m \u001B[38;5;28;01mimport\u001B[39;00m mean_squared_error \u001B[38;5;28;01mas\u001B[39;00m mse\n\u001B[1;32m----> 6\u001B[0m \u001B[38;5;28;01mfrom\u001B[39;00m \u001B[38;5;21;01mmatplotlib\u001B[39;00m \u001B[38;5;28;01mimport\u001B[39;00m pyplot \u001B[38;5;28;01mas\u001B[39;00m plt \n\u001B[0;32m      8\u001B[0m LR \u001B[38;5;241m=\u001B[39m LogisticRegression()\n\u001B[0;32m      9\u001B[0m kf \u001B[38;5;241m=\u001B[39m RepeatedKFold(n_splits\u001B[38;5;241m=\u001B[39m\u001B[38;5;241m10\u001B[39m, n_repeats\u001B[38;5;241m=\u001B[39m\u001B[38;5;241m5\u001B[39m)\n",
      "\u001B[1;31mModuleNotFoundError\u001B[0m: No module named 'matplotlib'"
     ]
    }
   ],
   "source": [
    "import pandas as pd\n",
    "import numpy as np\n",
    "from sklearn.linear_model import LogisticRegression\n",
    "from sklearn.model_selection import RepeatedKFold, train_test_split\n",
    "from sklearn.metrics import mean_squared_error as mse\n",
    "from matplotlib import pyplot as plt \n",
    "\n",
    "LR = LogisticRegression()\n",
    "kf = RepeatedKFold(n_splits=10, n_repeats=5)"
   ]
  },
  {
   "cell_type": "code",
   "execution_count": 7,
   "metadata": {},
   "outputs": [],
   "source": [
    "# Adding the truth values\n",
    "ground_truth = pd.read_csv(\"ground_truth.csv\", usecols=['time_local', 'Total_Number_Incidents'])\n",
    "ground_truth['time_local'] = pd.to_datetime(ground_truth.time_local)\n",
    "\n",
    "# Processing train.csv\n",
    "df_3step = pd.read_csv(\"train_P.csv\", usecols=['time', 'RUC', 'kappa', 'sliding_frame'], index_col=False)\n",
    "df_3step['time'] = pd.to_datetime(df_3step.time)\n",
    "df_3step = df_3step.merge(ground_truth, how=\"left\", left_on=\"time\", right_on='time_local')\n",
    "df_3step['Total_Number_Incidents'] = df_3step['Total_Number_Incidents'].fillna(0)\n",
    "n3s_ruc = df_3step[df_3step[\"RUC\"] < 0]"
   ]
  },
  {
   "cell_type": "code",
   "execution_count": 14,
   "metadata": {},
   "outputs": [
    {
     "name": "stdout",
     "output_type": "stream",
     "text": [
      "-0.999\n",
      "[1.86775376e-02 2.07581356e-02 2.45252068e-02 ... 7.16311650e-03\n",
      " 7.16311650e-03 3.61953576e-05]\n",
      "[0. 0. 0. ... 0. 0. 0.]\n"
     ]
    },
    {
     "ename": "NameError",
     "evalue": "name 'plt' is not defined",
     "output_type": "error",
     "traceback": [
      "\u001B[1;31m---------------------------------------------------------------------------\u001B[0m",
      "\u001B[1;31mNameError\u001B[0m                                 Traceback (most recent call last)",
      "Input \u001B[1;32mIn [14]\u001B[0m, in \u001B[0;36m<cell line: 10>\u001B[1;34m()\u001B[0m\n\u001B[0;32m      8\u001B[0m \u001B[38;5;28mprint\u001B[39m(y_pred)\n\u001B[0;32m      9\u001B[0m \u001B[38;5;28mprint\u001B[39m(y_true)\n\u001B[1;32m---> 10\u001B[0m \u001B[43mplt\u001B[49m\u001B[38;5;241m.\u001B[39mplot(y_pred, n3s_ruc[\u001B[38;5;124m'\u001B[39m\u001B[38;5;124mtime\u001B[39m\u001B[38;5;124m'\u001B[39m])\n",
      "\u001B[1;31mNameError\u001B[0m: name 'plt' is not defined"
     ]
    }
   ],
   "source": [
    "y_pred = np.array(p3s_ruc[\"RUC\"])\n",
    "y_true = np.array(p3s_ruc[\"Total_Number_Incidents\"])\n",
    "best_min = 1000000\n",
    "for i in [-x / 1000 for x in range(0, 1000)]:\n",
    "    if mse(y_true, y_pred, squared=False) < best_min:\n",
    "        best_min = i\n",
    "print(i)\n",
    "print(y_pred)\n",
    "print(y_true)\n",
    "plt.plot(y_pred, n3s_ruc['time'])"
   ]
  },
  {
   "cell_type": "markdown",
   "metadata": {},
   "source": [
    "### 3-step sliding frame dataset ###"
   ]
  },
  {
   "cell_type": "code",
   "execution_count": 3,
   "metadata": {},
   "outputs": [],
   "source": [
    "\n",
    "\n",
    "\n",
    "\n",
    "# Filtered data and count (.shape)\n",
    "df_3step = df_3step[(df_3step[\"sliding_frame\"] == 3) & (df_3step[\"kappa\"] == 0.25)]\n",
    "\n",
    "# Positive (3, 0.25)\n",
    "p3s_ruc = df_3step[df_3step[\"RUC\"] > 0]\n",
    "n_p = p3s_ruc.shape[0]\n",
    "\n",
    "# Negative (3, 0.25)\n",
    "n3s_ruc = df_3step[df_3step[\"RUC\"] < 0]\n",
    "n_n = n3s_ruc.shape[0]\n",
    "\n",
    "x1 = np.array(range(0,n_p)).reshape(-1,1)\n",
    "y1 = np.array(p3s_ruc[\"Total_Number_Incidents\"])\n",
    "\n",
    "\n",
    "\n",
    "# Residual derived from difference in predicted and true\n",
    "# Logistic Regression with 70/30 train-test-split\n",
    "\n",
    "x_train, x_test, y_train, y_test = train_test_split(x1,y1, test_size=0.3)\n",
    "\n",
    "LR.fit(x_train, y_train)\n",
    "y_hat1 = LR.predict(x_test)\n",
    "\n",
    "# res = y1-y_hat1\n",
    "\n",
    "\n",
    "# / We perform our machine learning models, and check its performance using the loss functions /\n",
    "# We are doing a binary classification-type problem.\n",
    "# We can study certain RUC values.? (confused)"
   ]
  },
  {
   "cell_type": "code",
   "execution_count": 4,
   "metadata": {},
   "outputs": [
    {
     "data": {
      "text/plain": [
       "array([[    0],\n",
       "       [    1],\n",
       "       [    2],\n",
       "       ...,\n",
       "       [21017],\n",
       "       [21018],\n",
       "       [21019]])"
      ]
     },
     "execution_count": 4,
     "metadata": {},
     "output_type": "execute_result"
    }
   ],
   "source": [
    "# /Testing window /\n",
    "\n",
    "\n",
    "# df_3step.to_csv('merged.csv', index = False)\n",
    "# p3s_ruc.to_csv('merged.csv', index = False)\n",
    "\n",
    "# p3s_ruc.head()\n",
    "x1"
   ]
  },
  {
   "cell_type": "code",
   "execution_count": 5,
   "metadata": {},
   "outputs": [
    {
     "name": "stdout",
     "output_type": "stream",
     "text": [
      "We expect to be able to detect 95.0% of accidents if we treat all RUCs higher than 0.15 as accidents.\n"
     ]
    }
   ],
   "source": [
    "df = df_3step[df_3step[\"Total_Number_Incidents\"] > 0]\n",
    "NAME_OF_PREDICTION_VARIABLE = \"RUC\"\n",
    "PERCENT_OF_ACCIDENTS_DETECTED = 0.95\n",
    "ruc = round(df.quantile(PERCENT_OF_ACCIDENTS_DETECTED)[NAME_OF_PREDICTION_VARIABLE], 3)\n",
    "print(f\"We expect to be able to detect {PERCENT_OF_ACCIDENTS_DETECTED * 100}% of accidents if we treat all RUCs higher than {ruc} as accidents.\")"
   ]
  },
  {
   "cell_type": "markdown",
   "metadata": {
    "pycharm": {
     "name": "#%% md\n"
    }
   },
   "source": [
    "**Loss Functions and M-estimators**"
   ]
  }
 ],
 "metadata": {
  "interpreter": {
   "hash": "40b299b9aa05c7aba1edee11e23fdf4ea17c4f193bd7a6be3fc875fc5c6ea0ab"
  },
  "kernelspec": {
   "display_name": "Python 3 (ipykernel)",
   "language": "python",
   "name": "python3"
  },
  "language_info": {
   "codemirror_mode": {
    "name": "ipython",
    "version": 3
   },
   "file_extension": ".py",
   "mimetype": "text/x-python",
   "name": "python",
   "nbconvert_exporter": "python",
   "pygments_lexer": "ipython3",
   "version": "3.10.4"
  }
 },
 "nbformat": 4,
 "nbformat_minor": 2
}