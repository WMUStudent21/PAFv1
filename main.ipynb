{
 "cells": [
  {
   "cell_type": "markdown",
   "metadata": {},
   "source": [
    "## Packages and initialisations ##"
   ]
  },
  {
   "cell_type": "code",
   "execution_count": 12,
   "metadata": {},
   "outputs": [],
   "source": [
    "# %pip install pandas\n",
    "# %pip install scikit-learn\n",
    "# %pip install numpy\n",
    "import pandas as pd\n",
    "import numpy as np\n",
    "import matplotlib.pyplot as plt \n",
    "from sklearn.model_selection import RepeatedKFold, train_test_split\n",
    "from sklearn.metrics import mean_squared_error as mse\n",
    "\n",
    "kf = RepeatedKFold(n_splits=10, n_repeats=5)"
   ]
  },
  {
   "cell_type": "markdown",
   "metadata": {
    "pycharm": {
     "name": "#%% md\n"
    }
   },
   "source": [
    "**Loss Functions and M-estimators**"
   ]
  },
  {
   "cell_type": "code",
   "execution_count": 44,
   "metadata": {},
   "outputs": [],
   "source": [
    "# # MA |y-h(x)|\n",
    "def MAE(y, y_hat):\n",
    "    return np.absolute(np.subtract(y_hat,y)).mean()\n",
    "    \n",
    "# # MS (y-h(x))^2\n",
    "def MSE(y, y_hat):\n",
    "    return np.square(np.subtract(y,y_hat)).mean()\n",
    "\n",
    "''' Implement Scaling Hyperparams'''\n",
    "\n",
    "# # Huber\n",
    "class Hub():\n",
    "    def one(y,y_hat, n, b):     # finding optimal tau\n",
    "        res=y-y_hat\n",
    "        huber_lf_1 = []\n",
    "        huber_lf_2 = []\n",
    "        for j in b:\n",
    "            for i in range (n):\n",
    "                if res[i] < j:\n",
    "                    huber_lf_1.append(((res[i])**2)/2)\n",
    "                else:\n",
    "                    huber_lf_2.append((j*abs(res[i])) - ((j**2)/2))\n",
    "        if huber_lf_1 == False:\n",
    "            return min(huber_lf_2)\n",
    "        elif huber_lf_2 == False:\n",
    "            return min(huber_lf_1)\n",
    "\n",
    "        else:\n",
    "            if min(huber_lf_2) > min(huber_lf_1):\n",
    "                return min(huber_lf_1)\n",
    "            else:\n",
    "                return min(huber_lf_2)\n",
    "\n",
    "    def two(y,y_hat, n, b):     # testing tau value\n",
    "        res=y-y_hat\n",
    "        huber_lf_1 = []\n",
    "        huber_lf_2 = []\n",
    "        for i in range (n):\n",
    "            if res[i] < b:\n",
    "                huber_lf_1.append(((res[i])**2)/2)\n",
    "            else:\n",
    "                huber_lf_2.append((b*abs(res[i])) - ((b**2)/2))\n",
    "        if min(huber_lf_2) > min(huber_lf_1):\n",
    "            return min(huber_lf_1)\n",
    "        else:\n",
    "            return min(huber_lf_2)\n",
    "# # Cauchy\n",
    "class Cau():\n",
    "    def one(y,y_hat, n, b):      # finding optimal tau\n",
    "        res=y-y_hat\n",
    "        cauchy_lf = []\n",
    "        for j in b:\n",
    "            for i in range (n):\n",
    "                cauchy_lf.append((j**2) * np.log(1+(((res[i])**2)/(j**2))))\n",
    "        return min(cauchy_lf)\n",
    "        \n",
    "    def two(y,y_hat, n, b):     # testing tau value\n",
    "        res=y-y_hat\n",
    "        cauchy_lf = []\n",
    "        for i in range (n):\n",
    "            cauchy_lf.append(((b**2) * np.log(1+(((res[i])**2)/(b**2)))))\n",
    "        return min(cauchy_lf)"
   ]
  },
  {
   "cell_type": "markdown",
   "metadata": {},
   "source": [
    "## Data Processing ##"
   ]
  },
  {
   "cell_type": "code",
   "execution_count": 40,
   "metadata": {},
   "outputs": [],
   "source": [
    "# Adding the truth values\n",
    "ground_truth = pd.read_csv(\"ground_truth.csv\", usecols=['time_local', 'Total_Number_Incidents'])\n",
    "ground_truth['time_local'] = pd.to_datetime(ground_truth.time_local)\n",
    "\n",
    "# Processing train.csv\n",
    "df_3step = pd.read_csv(\"train_P.csv\", usecols=['time', 'RUC', 'kappa', 'sliding_frame'], index_col=False)\n",
    "df_3step['time'] = pd.to_datetime(df_3step.time)\n",
    "df_3step = df_3step.merge(ground_truth, how=\"left\", left_on=\"time\", right_on='time_local')\n",
    "df_3step['Total_Number_Incidents'] = df_3step['Total_Number_Incidents'].fillna(0)\n",
    "\n",
    "# Filtered data and count (.shape)\n",
    "df_3step = df_3step[(df_3step[\"sliding_frame\"] == 3) & (df_3step[\"kappa\"] == 0.25)]\n",
    "\n",
    "# Positive (3, 0.25)\n",
    "p3s_ruc = df_3step[df_3step[\"RUC\"] > 0]\n",
    "n_p = p3s_ruc.shape[0]\n",
    "\n",
    "# Negative (3, 0.25)\n",
    "n3s_ruc = df_3step[df_3step[\"RUC\"] < 0]\n",
    "n_n = n3s_ruc.shape[0]"
   ]
  },
  {
   "cell_type": "markdown",
   "metadata": {},
   "source": [
    "### Training Model ###"
   ]
  },
  {
   "cell_type": "code",
   "execution_count": 46,
   "metadata": {},
   "outputs": [
    {
     "name": "stdout",
     "output_type": "stream",
     "text": [
      "\n",
      "Huber ERV:  -0.23201388751585086 \n",
      "Cauchy ERV:  1.7543718818980845e-12 \n",
      "MAE: 0.055748005547666686 \n",
      "MSE: 0.006076495779903645\n"
     ]
    }
   ],
   "source": [
    "\n",
    "# / We derive our machine learning models from, and check, its performance using the loss functions /\n",
    "# We are doing a threshold classification-type problem.\n",
    "# Residual derived from difference in predicted and true\n",
    "\n",
    "y1 = np.array(n3s_ruc[\"RUC\"])\n",
    "# y_train, y_test = train_test_split(y1)\n",
    "\n",
    "b_min = max(y1)\n",
    "b_max = min(y1)\n",
    "alpha = np.median(y1)\n",
    "b_range = np.arange(b_min,b_max,alpha)\n",
    "\n",
    "\n",
    "scores_hub = []\n",
    "scores_cauc = []\n",
    "scores_mae = []\n",
    "scores_mse = []\n",
    "\n",
    "\n",
    "for train_ix, test_ix in kf.split(y1):  # train-test split   \n",
    "    y_train = y1[train_ix]\n",
    "    tau_max = max(y_train)\n",
    "    alph0 = max(y_train)/2\n",
    "    tau_range = np.arange(0,tau_max,alph0)\n",
    "    for y_hat1 in tau_range:                                 # range of tau (y-intercept at horizontal)\n",
    "        scores_mae.append(MAE(y_train,y_hat1))               # current tau is y_hat, against all RUC in current y_train\n",
    "        scores_mse.append(MSE(y_train,y_hat1))\n",
    "        scores_hub.append(Hub.one(y_train,y_hat1, train_ix.shape[0], b_range))\n",
    "        scores_cauc.append(Cau.one(y_train,y_hat1, train_ix.shape[0], b_range))\n",
    "\n",
    "# ERV : Empirical Risk Value\n",
    "print(\"\\nHuber ERV: \", np.mean(scores_hub), \"\\nCauchy ERV: \", np.mean(scores_cauc), \"\\nMAE:\" , np.mean(scores_mae),\"\\nMSE:\" , np.mean(scores_mse))\n",
    "\n",
    "\n",
    "# TODO : Make it predict with ground truths.\n",
    "\n",
    "\n",
    "\n",
    "\n",
    "\n",
    "\n",
    "\n",
    "\n",
    "# y_pred = np.array(p3s_ruc[\"RUC\"])\n",
    "# y_true = np.array(p3s_ruc[\"Total_Number_Incidents\"])\n",
    "# best_min = 1000000\n",
    "# for i in [-x / 1000 for x in range(0, 1000)]:\n",
    "#     if mse(y_true, y_pred, squared=False) < best_min:\n",
    "#         best_min = i\n",
    "# print(i)\n",
    "# print(y_pred)\n",
    "# print(y_true)\n",
    "# plt.plot(y_pred, n3s_ruc['time'])\n",
    "\n"
   ]
  },
  {
   "cell_type": "code",
   "execution_count": 15,
   "metadata": {},
   "outputs": [
    {
     "name": "stdout",
     "output_type": "stream",
     "text": [
      "We expect to be able to detect 95.0% of accidents if we treat all RUCs higher than 0.15 as accidents.\n"
     ]
    }
   ],
   "source": [
    "df = df_3step[df_3step[\"Total_Number_Incidents\"] > 0]\n",
    "NAME_OF_PREDICTION_VARIABLE = \"RUC\"\n",
    "PERCENT_OF_ACCIDENTS_DETECTED = 0.95\n",
    "ruc = round(df.quantile(PERCENT_OF_ACCIDENTS_DETECTED)[NAME_OF_PREDICTION_VARIABLE], 3)\n",
    "print(f\"We expect to be able to detect {PERCENT_OF_ACCIDENTS_DETECTED * 100}% of accidents if we treat all RUCs higher than {ruc} as accidents.\")"
   ]
  }
 ],
 "metadata": {
  "interpreter": {
   "hash": "40b299b9aa05c7aba1edee11e23fdf4ea17c4f193bd7a6be3fc875fc5c6ea0ab"
  },
  "kernelspec": {
   "display_name": "Python 3 (ipykernel)",
   "language": "python",
   "name": "python3"
  },
  "language_info": {
   "codemirror_mode": {
    "name": "ipython",
    "version": 3
   },
   "file_extension": ".py",
   "mimetype": "text/x-python",
   "name": "python",
   "nbconvert_exporter": "python",
   "pygments_lexer": "ipython3",
   "version": "3.10.4"
  }
 },
 "nbformat": 4,
 "nbformat_minor": 2
}
