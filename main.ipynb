{
 "cells": [
  {
   "cell_type": "code",
   "execution_count": 1,
   "metadata": {},
   "outputs": [],
   "source": [
    "import pandas as pd\n",
    "import numpy as np\n",
    "from sklearn.linear_model import LinearRegression\n",
    "from sklearn.model_selection import RepeatedKFold\n",
    "\n",
    "LR = LinearRegression()\n",
    "kf = RepeatedKFold(n_splits=10, n_repeats=5)\n",
    "\n",
    "# # MA |y-h(x)|\n",
    "def MAE(y, y_hat, n):\n",
    "    # sum = 0\n",
    "    # for i in range(n):\n",
    "    #     sum += abs(y_hat[i] - y[i])\n",
    "    # return sum/n\n",
    "    return np.absolute(np.subtract(y_hat,y)).mean()\n",
    "# # MS (y-h(x))^2\n",
    "def MSE(y, y_hat):\n",
    "    return np.square(np.subtract(y,y_hat)).mean()\n",
    "''' Implement Scaling Hyperparams'''\n",
    "# # Huber\n",
    "class Hub():\n",
    "    def one(res, n, b):     # finding optimal tau\n",
    "        huber_lf_1 = []\n",
    "        huber_lf_2 = []\n",
    "        tau_list = []\n",
    "        count = 0\n",
    "        for j in b:\n",
    "            tau_list.append(j)\n",
    "            for i in range (n):\n",
    "                if res[i] < j:\n",
    "                    huber_lf_1.append(count + ((res[i])**2)/2)\n",
    "                else:\n",
    "                    huber_lf_2.append(count + (j*abs(res[i])) - ((j**2)/2))\n",
    "            count += 1\n",
    "        if huber_lf_1 == False:\n",
    "            ix = int(str(int(min(huber_lf_2)))[:1])\n",
    "            return (tau_list[ix])\n",
    "        elif huber_lf_2 == False:\n",
    "            ix = int(str(int(min(huber_lf_1)))[:1])\n",
    "            return (tau_list[ix])\n",
    "\n",
    "        else:\n",
    "            if min(huber_lf_2) > min(huber_lf_1):\n",
    "                ix = int(str(int(min(huber_lf_1)))[:1])\n",
    "                return (tau_list[ix])\n",
    "            else:\n",
    "                ix = int(str(int(min(huber_lf_2)))[:1])\n",
    "                return (tau_list[ix])\n",
    "\n",
    "    def two(res, n, b):     # testing tau value, returns hub_loss for input tau\n",
    "        huber_lf_1 = []\n",
    "        huber_lf_2 = []\n",
    "        for i in range (n):\n",
    "            if res[i] < b:\n",
    "                huber_lf_1.append(((res[i])**2)/2)\n",
    "            else:\n",
    "                huber_lf_2.append((b*abs(res[i])) - ((b**2)/2))\n",
    "        if min(huber_lf_2) > min(huber_lf_1):\n",
    "            return huber_lf_1\n",
    "        else:\n",
    "            return huber_lf_2\n",
    "# # Cauchy\n",
    "class Cau():\n",
    "    def one(res, n, b):      # finding optimal tau\n",
    "        cauchy_lf = []\n",
    "        tau_list = []\n",
    "        count = 0\n",
    "        for j in b:\n",
    "            tau_list.append(j)\n",
    "            for i in range (n):\n",
    "                cauchy_lf.append(count + ((j**2) * np.log(1+(((res[i])**2)/(j**2)))))\n",
    "            count += 1\n",
    "\n",
    "        ix = int(str(int(min(cauchy_lf)))[:1])\n",
    "        return (tau_list[ix])\n",
    "        \n",
    "    def two(res, n, b):     # testing tau value, returns cauchy for input tau\n",
    "        cauchy_lf = []\n",
    "        for i in range (n):\n",
    "            cauchy_lf.append(((b**2) * np.log(1+(((res[i])**2)/(b**2)))))\n",
    "        return min(cauchy_lf)"
   ]
  },
  {
   "cell_type": "markdown",
   "metadata": {},
   "source": [
    "### 3-step sliding frame dataset ###"
   ]
  },
  {
   "cell_type": "code",
   "execution_count": 2,
   "metadata": {},
   "outputs": [
    {
     "name": "stdout",
     "output_type": "stream",
     "text": [
      "0.00187053621145283 2.5995195472670886e-11\n"
     ]
    }
   ],
   "source": [
    "# Positive (3, 0.25)\n",
    "# Adding the truth values\n",
    "ground_truth = pd.read_csv(\"ground_truth.csv\", usecols=['time_local', 'Total_Number_Incidents'])\n",
    "ground_truth['time_local'] = pd.to_datetime(ground_truth.time_local)\n",
    "\n",
    "# Processing train.csv\n",
    "df_3step = pd.read_csv(\"train_P.csv\", usecols=['time', 'RUC', 'kappa', 'sliding_frame'], index_col=False)\n",
    "df_3step['time'] = pd.to_datetime(df_3step.time)\n",
    "\n",
    "df_3step = df_3step.merge(ground_truth, how=\"left\", left_on=\"time\", right_on='time_local')\n",
    "df_3step['Total_Number_Incidents'] = df_3step['Total_Number_Incidents'].fillna(0)\n",
    "\n",
    "# Filtered data and count (.shape)\n",
    "df_3step = df_3step[(df_3step[\"sliding_frame\"] == 3) & (df_3step[\"kappa\"] == 0.5)]\n",
    "p3s_ruc = df_3step[df_3step[\"RUC\"] > 0]\n",
    "n_p = p3s_ruc.shape[0]\n",
    "\n",
    "# y1 is RUC array, fitted for prediction\n",
    "x1 = np.array(range(0,n_p)).reshape(-1,1)\n",
    "y1 = np.array(p3s_ruc[\"RUC\"])\n",
    "LR.fit(x1,y1)\n",
    "\n",
    "# Residual derived from difference in predicted and true\n",
    "y_hat1 = LR.predict(x1)\n",
    "res = y1-y_hat1\n",
    "\n",
    "# MAE/ MSE\n",
    "abs_ruc_p = MAE(y1,y_hat1,n_p)\n",
    "sq_ruc_p = MSE(y1,y_hat1)\n",
    "\n",
    "# Beta hyperparameter range and step (alpha) \n",
    "b_min = min(y1)\n",
    "b_max = max(y1)\n",
    "alpha = np.median(y1)\n",
    "b_p = np.arange(b_min,b_max,alpha)\n",
    "\n",
    "\n",
    "# K-fold 10 splits, repeated 5 times\n",
    "scores_hub = []\n",
    "scores_cauc = []\n",
    "for train_ix, test_ix in kf.split(res):\n",
    "    y_train = res[train_ix]\n",
    "    scores_hub.append(Hub.one(y_train, train_ix.shape[0], b_p))\n",
    "    scores_cauc.append(Cau.one(y_train, train_ix.shape[0], b_p))\n",
    "\n",
    "# UD variable for tau_min\n",
    "tmin_h = np.mean(scores_hub)\n",
    "tmin_c= np.mean(scores_cauc)\n",
    "\n",
    "\n",
    "\n",
    "\n",
    "# print(sq_ruc_p,Hub.two(res,n_p,tmin_h))\n",
    "# print(\"\\nHuber ERV: \", hub_ruc_p, \"\\nCauchy ERV: \",cau_ruc_p, \"\\nMAE:\" , abs_ruc_p,\"\\nMSE:\" , sq_ruc_p)\n"
   ]
  },
  {
   "cell_type": "code",
   "execution_count": 35,
   "metadata": {},
   "outputs": [
    {
     "name": "stdout",
     "output_type": "stream",
     "text": [
      "2.5995195472670886e-11 2.5995195472670886e-11\n"
     ]
    }
   ],
   "source": [
    "# /Testing window /\n",
    "\n"
   ]
  }
 ],
 "metadata": {
  "interpreter": {
   "hash": "40b299b9aa05c7aba1edee11e23fdf4ea17c4f193bd7a6be3fc875fc5c6ea0ab"
  },
  "kernelspec": {
   "display_name": "Python 3 (ipykernel)",
   "language": "python",
   "name": "python3"
  },
  "language_info": {
   "codemirror_mode": {
    "name": "ipython",
    "version": 3
   },
   "file_extension": ".py",
   "mimetype": "text/x-python",
   "name": "python",
   "nbconvert_exporter": "python",
   "pygments_lexer": "ipython3",
   "version": "3.10.3"
  }
 },
 "nbformat": 4,
 "nbformat_minor": 2
}
