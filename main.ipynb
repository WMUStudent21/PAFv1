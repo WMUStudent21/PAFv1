{
 "cells": [
  {
   "cell_type": "code",
   "execution_count": 1,
   "metadata": {},
   "outputs": [],
   "source": [
    "import pandas as pd\n",
    "import numpy as np\n",
    "from sklearn.linear_model import LinearRegression\n",
    "from sklearn.model_selection import RepeatedKFold\n",
    "\n",
    "LR = LinearRegression()\n",
    "kf = RepeatedKFold(n_splits=10, n_repeats=5)\n",
    "\n",
    "# # MA |y-h(x)|\n",
    "def MAE(y, y_hat, n):\n",
    "    # sum = 0\n",
    "    # for i in range(n):\n",
    "    #     sum += abs(y_hat[i] - y[i])\n",
    "    # return sum/n\n",
    "    return np.absolute(np.subtract(y_hat,y)).mean()\n",
    "# # MS (y-h(x))^2\n",
    "def MSE(y, y_hat):\n",
    "    return np.square(np.subtract(y,y_hat)).mean()\n",
    "''' Implement Scaling Hyperparams'''\n",
    "# # Huber\n",
    "class Hub():\n",
    "    def one(res, n, b):     # finding optimal tau\n",
    "        huber_lf_1 = []\n",
    "        huber_lf_2 = []\n",
    "        tau_list = []\n",
    "        count = 0\n",
    "        for j in b:\n",
    "            tau_list.append(j)\n",
    "            for i in range (n):\n",
    "                if res[i] < j:\n",
    "                    huber_lf_1.append(count + ((res[i])**2)/2)\n",
    "                else:\n",
    "                    huber_lf_2.append(count + (j*abs(res[i])) - ((j**2)/2))\n",
    "            count += 1\n",
    "        if huber_lf_1 == False:\n",
    "            ix = int(str(int(min(huber_lf_2)))[:1])\n",
    "            return (tau_list[ix])\n",
    "        elif huber_lf_2 == False:\n",
    "            ix = int(str(int(min(huber_lf_1)))[:1])\n",
    "            return (tau_list[ix])\n",
    "\n",
    "        else:\n",
    "            if min(huber_lf_2) > min(huber_lf_1):\n",
    "                ix = int(str(int(min(huber_lf_1)))[:1])\n",
    "                return (tau_list[ix])\n",
    "            else:\n",
    "                ix = int(str(int(min(huber_lf_2)))[:1])\n",
    "                return (tau_list[ix])\n",
    "\n",
    "    def two(res, n, b):     # testing tau value\n",
    "        huber_lf_1 = []\n",
    "        huber_lf_2 = []\n",
    "        for i in range (n):\n",
    "            if res[i] < b:\n",
    "                huber_lf_1.append(((res[i])**2)/2)\n",
    "            else:\n",
    "                huber_lf_2.append((b*abs(res[i])) - ((b**2)/2))\n",
    "        if min(huber_lf_2) > min(huber_lf_1):\n",
    "            return min(huber_lf_1)\n",
    "        else:\n",
    "            return min(huber_lf_2)\n",
    "# # Cauchy\n",
    "class Cau():\n",
    "    def one(res, n, b):      # finding optimal tau\n",
    "        cauchy_lf = []\n",
    "        tau_list = []\n",
    "        count = 0\n",
    "        for j in b:\n",
    "            tau_list.append(j)\n",
    "            for i in range (n):\n",
    "                cauchy_lf.append(count + ((j**2) * np.log(1+(((res[i])**2)/(j**2)))))\n",
    "            count += 1\n",
    "\n",
    "        ix = int(str(int(min(cauchy_lf)))[:1])\n",
    "        return (tau_list[ix])\n",
    "        \n",
    "    def two(res, n, b):     # testing tau value\n",
    "        cauchy_lf = []\n",
    "        for i in range (n):\n",
    "            cauchy_lf.append(((b**2) * np.log(1+(((res[i])**2)/(b**2)))))\n",
    "        return min(cauchy_lf)"
   ]
  },
  {
   "cell_type": "markdown",
   "metadata": {},
   "source": [
    "### 3-step sliding frame dataset ###"
   ]
  },
  {
   "cell_type": "code",
   "execution_count": 2,
   "metadata": {},
   "outputs": [
    {
     "ename": "KeyboardInterrupt",
     "evalue": "",
     "output_type": "error",
     "traceback": [
      "\u001b[1;31m---------------------------------------------------------------------------\u001b[0m",
      "\u001b[1;31mKeyboardInterrupt\u001b[0m                         Traceback (most recent call last)",
      "\u001b[1;32mc:\\Users\\mikek\\Desktop\\CS5950\\Smart-Transportation-FeatureSet\\3half.ipynb Cell 3'\u001b[0m in \u001b[0;36m<cell line: 25>\u001b[1;34m()\u001b[0m\n\u001b[0;32m     <a href='vscode-notebook-cell:/c%3A/Users/mikek/Desktop/CS5950/Smart-Transportation-FeatureSet/3half.ipynb#ch0000002?line=24'>25</a>\u001b[0m \u001b[39mfor\u001b[39;00m train_ix, test_ix \u001b[39min\u001b[39;00m kf\u001b[39m.\u001b[39msplit(res):\n\u001b[0;32m     <a href='vscode-notebook-cell:/c%3A/Users/mikek/Desktop/CS5950/Smart-Transportation-FeatureSet/3half.ipynb#ch0000002?line=25'>26</a>\u001b[0m     y_train \u001b[39m=\u001b[39m res[train_ix]\n\u001b[1;32m---> <a href='vscode-notebook-cell:/c%3A/Users/mikek/Desktop/CS5950/Smart-Transportation-FeatureSet/3half.ipynb#ch0000002?line=26'>27</a>\u001b[0m     scores_hub\u001b[39m.\u001b[39mappend(Hub\u001b[39m.\u001b[39;49mone(y_train, train_ix\u001b[39m.\u001b[39;49mshape[\u001b[39m0\u001b[39;49m], b_p))\n\u001b[0;32m     <a href='vscode-notebook-cell:/c%3A/Users/mikek/Desktop/CS5950/Smart-Transportation-FeatureSet/3half.ipynb#ch0000002?line=27'>28</a>\u001b[0m     scores_cauc\u001b[39m.\u001b[39mappend(Cau\u001b[39m.\u001b[39mone(y_train, train_ix\u001b[39m.\u001b[39mshape[\u001b[39m0\u001b[39m], b_p))\n\u001b[0;32m     <a href='vscode-notebook-cell:/c%3A/Users/mikek/Desktop/CS5950/Smart-Transportation-FeatureSet/3half.ipynb#ch0000002?line=28'>29</a>\u001b[0m tmin_h \u001b[39m=\u001b[39m np\u001b[39m.\u001b[39mmean(scores_hub)\n",
      "\u001b[1;32mc:\\Users\\mikek\\Desktop\\CS5950\\Smart-Transportation-FeatureSet\\3half.ipynb Cell 1'\u001b[0m in \u001b[0;36mHub.one\u001b[1;34m(res, n, b)\u001b[0m\n\u001b[0;32m     <a href='vscode-notebook-cell:/c%3A/Users/mikek/Desktop/CS5950/Smart-Transportation-FeatureSet/3half.ipynb#ch0000000?line=28'>29</a>\u001b[0m \u001b[39mfor\u001b[39;00m i \u001b[39min\u001b[39;00m \u001b[39mrange\u001b[39m (n):\n\u001b[0;32m     <a href='vscode-notebook-cell:/c%3A/Users/mikek/Desktop/CS5950/Smart-Transportation-FeatureSet/3half.ipynb#ch0000000?line=29'>30</a>\u001b[0m     \u001b[39mif\u001b[39;00m res[i] \u001b[39m<\u001b[39m j:\n\u001b[1;32m---> <a href='vscode-notebook-cell:/c%3A/Users/mikek/Desktop/CS5950/Smart-Transportation-FeatureSet/3half.ipynb#ch0000000?line=30'>31</a>\u001b[0m         huber_lf_1\u001b[39m.\u001b[39mappend(count \u001b[39m+\u001b[39m ((res[i])\u001b[39m*\u001b[39m\u001b[39m*\u001b[39m\u001b[39m2\u001b[39m)\u001b[39m/\u001b[39m\u001b[39m2\u001b[39m)\n\u001b[0;32m     <a href='vscode-notebook-cell:/c%3A/Users/mikek/Desktop/CS5950/Smart-Transportation-FeatureSet/3half.ipynb#ch0000000?line=31'>32</a>\u001b[0m     \u001b[39melse\u001b[39;00m:\n\u001b[0;32m     <a href='vscode-notebook-cell:/c%3A/Users/mikek/Desktop/CS5950/Smart-Transportation-FeatureSet/3half.ipynb#ch0000000?line=32'>33</a>\u001b[0m         huber_lf_2\u001b[39m.\u001b[39mappend(count \u001b[39m+\u001b[39m (j\u001b[39m*\u001b[39m\u001b[39mabs\u001b[39m(res[i])) \u001b[39m-\u001b[39m ((j\u001b[39m*\u001b[39m\u001b[39m*\u001b[39m\u001b[39m2\u001b[39m)\u001b[39m/\u001b[39m\u001b[39m2\u001b[39m))\n",
      "\u001b[1;31mKeyboardInterrupt\u001b[0m: "
     ]
    }
   ],
   "source": [
    "# Positive (3, 0.25)\n",
    "\n",
    "df_3step = pd.read_csv(\"train_P.csv\", usecols=['RUC', 'kappa', 'sliding_frame'], index_col=False)\n",
    "df_3step = df_3step[(df_3step[\"sliding_frame\"] == 3) & (df_3step[\"kappa\"] == 0.5)]\n",
    "p3s_ruc = df_3step[df_3step[\"RUC\"] > 0]\n",
    "n_p = p3s_ruc.shape[0]\n",
    "\n",
    "x1 = np.array(range(0,n_p)).reshape(-1,1)\n",
    "y1 = np.array(p3s_ruc[\"RUC\"])\n",
    "LR.fit(x1,y1)\n",
    "y_hat1 = LR.predict(x1)\n",
    "res = y1-y_hat1\n",
    "\n",
    "abs_ruc_p = MAE(y1,y_hat1,n_p)\n",
    "sq_ruc_p = MSE(y1,y_hat1)\n",
    "\n",
    "b_min = min(y1)\n",
    "b_max = max(y1)\n",
    "alpha = np.median(y1)\n",
    "b_p = np.arange(b_min,b_max,alpha)\n",
    "\n",
    "scores_hub = []\n",
    "scores_cauc = []\n",
    "\n",
    "for train_ix, test_ix in kf.split(res):\n",
    "    y_train = res[train_ix]\n",
    "    scores_hub.append(Hub.one(y_train, train_ix.shape[0], b_p))\n",
    "    scores_cauc.append(Cau.one(y_train, train_ix.shape[0], b_p))\n",
    "tmin_h = np.mean(scores_hub)\n",
    "tmin_c= np.mean(scores_cauc)\n",
    "\n",
    "print(sq_ruc_p,Hub.two(res,n_p,tmin_h))\n",
    "\n",
    "# print(\"\\nHuber ERV: \", hub_ruc_p, \"\\nCauchy ERV: \",cau_ruc_p, \"\\nMAE:\" , abs_ruc_p,\"\\nMSE:\" , sq_ruc_p)\n"
   ]
  },
  {
   "cell_type": "code",
   "execution_count": null,
   "metadata": {},
   "outputs": [
    {
     "name": "stdout",
     "output_type": "stream",
     "text": [
      "0.0029590027335597104 -1.0833798524344104e-07\n"
     ]
    }
   ],
   "source": [
    "# Negative (3,0.25)\n",
    "\n",
    "df_3step = pd.read_csv(\"train_P.csv\", usecols=['RUC', 'kappa', 'sliding_frame'], index_col=False)\n",
    "df_3step = df_3step[(df_3step[\"sliding_frame\"] == 3) & (df_3step[\"kappa\"] == 0.5)]\n",
    "n3s_ruc = df_3step[df_3step[\"RUC\"] < 0]\n",
    "n_n = n3s_ruc.shape[0]\n",
    "\n",
    "x2 = np.array(range(0,n_n)).reshape(-1,1)\n",
    "y2 = np.array(n3s_ruc[\"RUC\"])\n",
    "LR.fit(x2,y2)\n",
    "y_hat2 = LR.predict(x2)\n",
    "res = y2-y_hat2\n",
    "\n",
    "abs_ruc_n = MAE(y2,y_hat2,n_n)\n",
    "sq_ruc_n = MSE(y2,y_hat2)\n",
    "\n",
    "b_min = max(y2)\n",
    "b_max = min(y2)\n",
    "alpha = np.median(y2)\n",
    "b_n = np.arange(b_min,b_max,alpha)\n",
    "\n",
    "scores_hub = []\n",
    "scores_cauc = []\n",
    "\n",
    "for train_ix, test_ix in kf.split(res):\n",
    "    y_train = res[train_ix]\n",
    "    scores_hub.append(Hub.one(y_train, train_ix.shape[0], b_n))\n",
    "    scores_cauc.append(Cau.one(y_train, train_ix.shape[0], b_n))\n",
    "tmin_h = np.mean(scores_hub)\n",
    "tmin_c= np.mean(scores_cauc)\n",
    "print(sq_ruc_n,Hub.two(res,n_n,tmin_h))\n",
    "\n",
    "# print(\"\\nHuber ERV: \", hub_ruc_p, \"\\nCauchy ERV: \",cau_ruc_p, \"\\nMAE:\" , abs_ruc_p,\"\\nMSE:\" , sq_ruc_p)\n"
   ]
  },
  {
   "cell_type": "code",
   "execution_count": null,
   "metadata": {},
   "outputs": [
    {
     "name": "stdout",
     "output_type": "stream",
     "text": [
      "8\n",
      "9\n"
     ]
    }
   ],
   "source": [
    "class first():\n",
    "    if 1+1==2:\n",
    "        print(8)\n",
    "    def second():\n",
    "        print(9)\n",
    "\n",
    "first.second()"
   ]
  },
  {
   "cell_type": "markdown",
   "metadata": {},
   "source": [
    "### 7-step sliding frame dataset ###"
   ]
  },
  {
   "cell_type": "code",
   "execution_count": null,
   "metadata": {},
   "outputs": [],
   "source": [
    "# df_7step = pd.read_csv(\"train_P.csv\", usecols=['RUC', 'kappa', 'sliding_frame'])\n",
    "\n",
    "# df_7step = df_7step[(df_3step[\"sliding_frame\"] == 7) & (df_7step[\"kappa\"] <= 0.75)]\n",
    "# p7s_ruc = df_7step[df_7step[\"RUC\"] > 0]\n",
    "# n7s_ruc = df_7step[df_7step[\"RUC\"] < 0]"
   ]
  }
 ],
 "metadata": {
  "interpreter": {
   "hash": "40b299b9aa05c7aba1edee11e23fdf4ea17c4f193bd7a6be3fc875fc5c6ea0ab"
  },
  "kernelspec": {
   "display_name": "Python 3.10.3 64-bit",
   "language": "python",
   "name": "python3"
  },
  "language_info": {
   "codemirror_mode": {
    "name": "ipython",
    "version": 3
   },
   "file_extension": ".py",
   "mimetype": "text/x-python",
   "name": "python",
   "nbconvert_exporter": "python",
   "pygments_lexer": "ipython3",
   "version": "3.10.3"
  },
  "orig_nbformat": 4
 },
 "nbformat": 4,
 "nbformat_minor": 2
}
