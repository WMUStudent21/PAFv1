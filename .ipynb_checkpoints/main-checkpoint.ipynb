{
 "cells": [
  {
   "cell_type": "code",
   "execution_count": 1,
   "metadata": {},
   "outputs": [],
   "source": [
    "# %pip install pandas\n",
    "# %pip install scikit-learn\n",
    "# %pip install numpy"
   ]
  },
  {
   "cell_type": "code",
   "execution_count": 86,
   "metadata": {},
   "outputs": [],
   "source": [
    "import pandas as pd\n",
    "import numpy as np\n",
    "from sklearn.linear_model import LogisticRegression\n",
    "from sklearn.model_selection import RepeatedKFold, train_test_split\n",
    "from sklearn.metrics import mean_squared_error as mse\n",
    "from matplotlib import pyplot as plt \n",
    "from sklearn.metrics import confusion_matrix\n",
    "\n",
    "LR = LogisticRegression()\n",
    "kf = RepeatedKFold(n_splits=10, n_repeats=5)"
   ]
  },
  {
   "cell_type": "code",
   "execution_count": 7,
   "metadata": {},
   "outputs": [],
   "source": [
    "# Adding the truth values\n",
    "ground_truth = pd.read_csv(\"ground_truth.csv\", usecols=['time_local', 'Total_Number_Incidents'])\n",
    "ground_truth['time_local'] = pd.to_datetime(ground_truth.time_local)\n",
    "\n",
    "# Processing train.csv\n",
    "df_3step = pd.read_csv(\"train_P.csv\", usecols=['time', 'RUC', 'kappa', 'sliding_frame'], index_col=False)\n",
    "df_3step['time'] = pd.to_datetime(df_3step.time)\n",
    "df_3step = df_3step.merge(ground_truth, how=\"left\", left_on=\"time\", right_on='time_local')\n",
    "df_3step['Total_Number_Incidents'] = df_3step['Total_Number_Incidents'].fillna(0)\n",
    "n3s_ruc = df_3step[df_3step[\"RUC\"] < 0]"
   ]
  },
  {
   "cell_type": "code",
   "execution_count": 95,
   "metadata": {
    "scrolled": true
   },
   "outputs": [
    {
     "name": "stdout",
     "output_type": "stream",
     "text": [
      "True Accidents: 468 True No Accidents: 270232\n",
      "MSE:0.0017288511267085334\n",
      "\n",
      "True Negetive: 270232, False Positive: 0\n",
      "False Negetive: 468, True Positive: 0\n",
      "MSE:0.0037458441078684892\n",
      "\n",
      "True Negetive: 269686, False Positive: 546\n",
      "False Negetive: 468, True Positive: 0\n",
      "MSE:0.005958625785001847\n",
      "\n",
      "True Negetive: 269087, False Positive: 1145\n",
      "False Negetive: 468, True Positive: 0\n",
      "MSE:0.008130772072404877\n",
      "\n",
      "True Negetive: 268499, False Positive: 1733\n",
      "False Negetive: 468, True Positive: 0\n",
      "MSE:0.010613224972294052\n",
      "\n",
      "True Negetive: 267827, False Positive: 2405\n",
      "False Negetive: 468, True Positive: 0\n",
      "MSE:0.012523088289619505\n",
      "\n",
      "True Negetive: 267309, False Positive: 2923\n",
      "False Negetive: 467, True Positive: 1\n",
      "MSE:0.014787587735500554\n",
      "\n",
      "True Negetive: 266696, False Positive: 3536\n",
      "False Negetive: 467, True Positive: 1\n",
      "MSE:0.017838936091614334\n",
      "\n",
      "True Negetive: 265870, False Positive: 4362\n",
      "False Negetive: 467, True Positive: 1\n",
      "MSE:0.019778352419652753\n",
      "\n",
      "True Negetive: 265345, False Positive: 4887\n",
      "False Negetive: 467, True Positive: 1\n",
      "MSE:0.02194311045437754\n",
      "\n",
      "True Negetive: 264759, False Positive: 5473\n",
      "False Negetive: 467, True Positive: 1\n",
      "MSE:0.024414480975249352\n",
      "\n",
      "True Negetive: 264090, False Positive: 6142\n",
      "False Negetive: 467, True Positive: 1\n",
      "MSE:0.02661987439970447\n",
      "\n",
      "True Negetive: 263489, False Positive: 6743\n",
      "False Negetive: 463, True Positive: 5\n",
      "MSE:0.029091244920576284\n",
      "\n",
      "True Negetive: 262820, False Positive: 7412\n",
      "False Negetive: 463, True Positive: 5\n",
      "MSE:0.031688215736978206\n",
      "\n",
      "True Negetive: 262117, False Positive: 8115\n",
      "False Negetive: 463, True Positive: 5\n",
      "MSE:0.03330624307351311\n",
      "\n",
      "True Negetive: 261676, False Positive: 8556\n",
      "False Negetive: 460, True Positive: 8\n",
      "MSE:0.03541928333949021\n",
      "\n",
      "True Negetive: 261100, False Positive: 9132\n",
      "False Negetive: 456, True Positive: 12\n",
      "MSE:0.03724418175101588\n",
      "\n",
      "True Negetive: 260606, False Positive: 9626\n",
      "False Negetive: 456, True Positive: 12\n",
      "MSE:0.03930181012190617\n",
      "\n",
      "True Negetive: 260049, False Positive: 10183\n",
      "False Negetive: 456, True Positive: 12\n",
      "MSE:0.041233838197266344\n",
      "\n",
      "True Negetive: 259523, False Positive: 10709\n",
      "False Negetive: 453, True Positive: 15\n",
      "MSE:0.04319541928333949\n",
      "\n",
      "True Negetive: 258992, False Positive: 11240\n",
      "False Negetive: 453, True Positive: 15\n",
      "MSE:0.04499445881049132\n",
      "\n",
      "True Negetive: 258502, False Positive: 11730\n",
      "False Negetive: 450, True Positive: 18\n",
      "MSE:0.04660509789434799\n",
      "\n",
      "True Negetive: 258064, False Positive: 12168\n",
      "False Negetive: 448, True Positive: 20\n",
      "MSE:0.048880679719246395\n",
      "\n",
      "True Negetive: 257445, False Positive: 12787\n",
      "False Negetive: 445, True Positive: 23\n",
      "MSE:0.051119320280753604\n",
      "\n",
      "True Negetive: 256838, False Positive: 13394\n",
      "False Negetive: 444, True Positive: 24\n",
      "MSE:0.05281123014407093\n",
      "\n"
     ]
    },
    {
     "ename": "KeyboardInterrupt",
     "evalue": "",
     "output_type": "error",
     "traceback": [
      "\u001b[1;31m---------------------------------------------------------------------------\u001b[0m",
      "\u001b[1;31mKeyboardInterrupt\u001b[0m                         Traceback (most recent call last)",
      "Input \u001b[1;32mIn [95]\u001b[0m, in \u001b[0;36m<cell line: 7>\u001b[1;34m()\u001b[0m\n\u001b[0;32m     11\u001b[0m     best_min \u001b[38;5;241m=\u001b[39m \u001b[38;5;241m-\u001b[39mi \u001b[38;5;241m*\u001b[39m step_size\n\u001b[0;32m     12\u001b[0m \u001b[38;5;28mprint\u001b[39m(\u001b[38;5;124mf\u001b[39m\u001b[38;5;124m\"\u001b[39m\u001b[38;5;124mMSE:\u001b[39m\u001b[38;5;132;01m{\u001b[39;00msaved_mse\u001b[38;5;132;01m}\u001b[39;00m\u001b[38;5;130;01m\\n\u001b[39;00m\u001b[38;5;124m\"\u001b[39m)\n\u001b[1;32m---> 13\u001b[0m conf \u001b[38;5;241m=\u001b[39m \u001b[43mconfusion_matrix\u001b[49m\u001b[43m(\u001b[49m\u001b[43my_true\u001b[49m\u001b[43m,\u001b[49m\u001b[43m \u001b[49m\u001b[43my_pred\u001b[49m\u001b[43m)\u001b[49m\n\u001b[0;32m     14\u001b[0m \u001b[38;5;28mprint\u001b[39m(\u001b[38;5;124mf\u001b[39m\u001b[38;5;124m\"\u001b[39m\u001b[38;5;124mTrue Negetive: \u001b[39m\u001b[38;5;132;01m{\u001b[39;00mconf[\u001b[38;5;241m0\u001b[39m][\u001b[38;5;241m0\u001b[39m]\u001b[38;5;132;01m}\u001b[39;00m\u001b[38;5;124m, False Positive: \u001b[39m\u001b[38;5;132;01m{\u001b[39;00mconf[\u001b[38;5;241m0\u001b[39m][\u001b[38;5;241m1\u001b[39m]\u001b[38;5;132;01m}\u001b[39;00m\u001b[38;5;124m\"\u001b[39m)\n\u001b[0;32m     15\u001b[0m \u001b[38;5;28mprint\u001b[39m(\u001b[38;5;124mf\u001b[39m\u001b[38;5;124m\"\u001b[39m\u001b[38;5;124mFalse Negetive: \u001b[39m\u001b[38;5;132;01m{\u001b[39;00mconf[\u001b[38;5;241m1\u001b[39m][\u001b[38;5;241m0\u001b[39m]\u001b[38;5;132;01m}\u001b[39;00m\u001b[38;5;124m, True Positive: \u001b[39m\u001b[38;5;132;01m{\u001b[39;00mconf[\u001b[38;5;241m1\u001b[39m][\u001b[38;5;241m1\u001b[39m]\u001b[38;5;132;01m}\u001b[39;00m\u001b[38;5;124m\"\u001b[39m)\n",
      "File \u001b[1;32m~\\.virtualenvs\\PAFv1-vypZhr_2\\lib\\site-packages\\sklearn\\metrics\\_classification.py:307\u001b[0m, in \u001b[0;36mconfusion_matrix\u001b[1;34m(y_true, y_pred, labels, sample_weight, normalize)\u001b[0m\n\u001b[0;32m    222\u001b[0m \u001b[38;5;28;01mdef\u001b[39;00m \u001b[38;5;21mconfusion_matrix\u001b[39m(\n\u001b[0;32m    223\u001b[0m     y_true, y_pred, \u001b[38;5;241m*\u001b[39m, labels\u001b[38;5;241m=\u001b[39m\u001b[38;5;28;01mNone\u001b[39;00m, sample_weight\u001b[38;5;241m=\u001b[39m\u001b[38;5;28;01mNone\u001b[39;00m, normalize\u001b[38;5;241m=\u001b[39m\u001b[38;5;28;01mNone\u001b[39;00m\n\u001b[0;32m    224\u001b[0m ):\n\u001b[0;32m    225\u001b[0m     \u001b[38;5;124;03m\"\"\"Compute confusion matrix to evaluate the accuracy of a classification.\u001b[39;00m\n\u001b[0;32m    226\u001b[0m \n\u001b[0;32m    227\u001b[0m \u001b[38;5;124;03m    By definition a confusion matrix :math:`C` is such that :math:`C_{i, j}`\u001b[39;00m\n\u001b[1;32m   (...)\u001b[0m\n\u001b[0;32m    305\u001b[0m \u001b[38;5;124;03m    (0, 2, 1, 1)\u001b[39;00m\n\u001b[0;32m    306\u001b[0m \u001b[38;5;124;03m    \"\"\"\u001b[39;00m\n\u001b[1;32m--> 307\u001b[0m     y_type, y_true, y_pred \u001b[38;5;241m=\u001b[39m \u001b[43m_check_targets\u001b[49m\u001b[43m(\u001b[49m\u001b[43my_true\u001b[49m\u001b[43m,\u001b[49m\u001b[43m \u001b[49m\u001b[43my_pred\u001b[49m\u001b[43m)\u001b[49m\n\u001b[0;32m    308\u001b[0m     \u001b[38;5;28;01mif\u001b[39;00m y_type \u001b[38;5;129;01mnot\u001b[39;00m \u001b[38;5;129;01min\u001b[39;00m (\u001b[38;5;124m\"\u001b[39m\u001b[38;5;124mbinary\u001b[39m\u001b[38;5;124m\"\u001b[39m, \u001b[38;5;124m\"\u001b[39m\u001b[38;5;124mmulticlass\u001b[39m\u001b[38;5;124m\"\u001b[39m):\n\u001b[0;32m    309\u001b[0m         \u001b[38;5;28;01mraise\u001b[39;00m \u001b[38;5;167;01mValueError\u001b[39;00m(\u001b[38;5;124m\"\u001b[39m\u001b[38;5;132;01m%s\u001b[39;00m\u001b[38;5;124m is not supported\u001b[39m\u001b[38;5;124m\"\u001b[39m \u001b[38;5;241m%\u001b[39m y_type)\n",
      "File \u001b[1;32m~\\.virtualenvs\\PAFv1-vypZhr_2\\lib\\site-packages\\sklearn\\metrics\\_classification.py:86\u001b[0m, in \u001b[0;36m_check_targets\u001b[1;34m(y_true, y_pred)\u001b[0m\n\u001b[0;32m     84\u001b[0m check_consistent_length(y_true, y_pred)\n\u001b[0;32m     85\u001b[0m type_true \u001b[38;5;241m=\u001b[39m type_of_target(y_true)\n\u001b[1;32m---> 86\u001b[0m type_pred \u001b[38;5;241m=\u001b[39m \u001b[43mtype_of_target\u001b[49m\u001b[43m(\u001b[49m\u001b[43my_pred\u001b[49m\u001b[43m)\u001b[49m\n\u001b[0;32m     88\u001b[0m y_type \u001b[38;5;241m=\u001b[39m {type_true, type_pred}\n\u001b[0;32m     89\u001b[0m \u001b[38;5;28;01mif\u001b[39;00m y_type \u001b[38;5;241m==\u001b[39m {\u001b[38;5;124m\"\u001b[39m\u001b[38;5;124mbinary\u001b[39m\u001b[38;5;124m\"\u001b[39m, \u001b[38;5;124m\"\u001b[39m\u001b[38;5;124mmulticlass\u001b[39m\u001b[38;5;124m\"\u001b[39m}:\n",
      "File \u001b[1;32m~\\.virtualenvs\\PAFv1-vypZhr_2\\lib\\site-packages\\sklearn\\utils\\multiclass.py:327\u001b[0m, in \u001b[0;36mtype_of_target\u001b[1;34m(y)\u001b[0m\n\u001b[0;32m    324\u001b[0m     _assert_all_finite(y)\n\u001b[0;32m    325\u001b[0m     \u001b[38;5;28;01mreturn\u001b[39;00m \u001b[38;5;124m\"\u001b[39m\u001b[38;5;124mcontinuous\u001b[39m\u001b[38;5;124m\"\u001b[39m \u001b[38;5;241m+\u001b[39m suffix\n\u001b[1;32m--> 327\u001b[0m \u001b[38;5;28;01mif\u001b[39;00m (\u001b[38;5;28mlen\u001b[39m(\u001b[43mnp\u001b[49m\u001b[38;5;241;43m.\u001b[39;49m\u001b[43munique\u001b[49m\u001b[43m(\u001b[49m\u001b[43my\u001b[49m\u001b[43m)\u001b[49m) \u001b[38;5;241m>\u001b[39m \u001b[38;5;241m2\u001b[39m) \u001b[38;5;129;01mor\u001b[39;00m (y\u001b[38;5;241m.\u001b[39mndim \u001b[38;5;241m>\u001b[39m\u001b[38;5;241m=\u001b[39m \u001b[38;5;241m2\u001b[39m \u001b[38;5;129;01mand\u001b[39;00m \u001b[38;5;28mlen\u001b[39m(y[\u001b[38;5;241m0\u001b[39m]) \u001b[38;5;241m>\u001b[39m \u001b[38;5;241m1\u001b[39m):\n\u001b[0;32m    328\u001b[0m     \u001b[38;5;28;01mreturn\u001b[39;00m \u001b[38;5;124m\"\u001b[39m\u001b[38;5;124mmulticlass\u001b[39m\u001b[38;5;124m\"\u001b[39m \u001b[38;5;241m+\u001b[39m suffix  \u001b[38;5;66;03m# [1, 2, 3] or [[1., 2., 3]] or [[1, 2]]\u001b[39;00m\n\u001b[0;32m    329\u001b[0m \u001b[38;5;28;01melse\u001b[39;00m:\n",
      "File \u001b[1;32m<__array_function__ internals>:180\u001b[0m, in \u001b[0;36munique\u001b[1;34m(*args, **kwargs)\u001b[0m\n",
      "File \u001b[1;32m~\\.virtualenvs\\PAFv1-vypZhr_2\\lib\\site-packages\\numpy\\lib\\arraysetops.py:272\u001b[0m, in \u001b[0;36munique\u001b[1;34m(ar, return_index, return_inverse, return_counts, axis)\u001b[0m\n\u001b[0;32m    270\u001b[0m ar \u001b[38;5;241m=\u001b[39m np\u001b[38;5;241m.\u001b[39masanyarray(ar)\n\u001b[0;32m    271\u001b[0m \u001b[38;5;28;01mif\u001b[39;00m axis \u001b[38;5;129;01mis\u001b[39;00m \u001b[38;5;28;01mNone\u001b[39;00m:\n\u001b[1;32m--> 272\u001b[0m     ret \u001b[38;5;241m=\u001b[39m \u001b[43m_unique1d\u001b[49m\u001b[43m(\u001b[49m\u001b[43mar\u001b[49m\u001b[43m,\u001b[49m\u001b[43m \u001b[49m\u001b[43mreturn_index\u001b[49m\u001b[43m,\u001b[49m\u001b[43m \u001b[49m\u001b[43mreturn_inverse\u001b[49m\u001b[43m,\u001b[49m\u001b[43m \u001b[49m\u001b[43mreturn_counts\u001b[49m\u001b[43m)\u001b[49m\n\u001b[0;32m    273\u001b[0m     \u001b[38;5;28;01mreturn\u001b[39;00m _unpack_tuple(ret)\n\u001b[0;32m    275\u001b[0m \u001b[38;5;66;03m# axis was specified and not None\u001b[39;00m\n",
      "File \u001b[1;32m~\\.virtualenvs\\PAFv1-vypZhr_2\\lib\\site-packages\\numpy\\lib\\arraysetops.py:333\u001b[0m, in \u001b[0;36m_unique1d\u001b[1;34m(ar, return_index, return_inverse, return_counts)\u001b[0m\n\u001b[0;32m    331\u001b[0m     aux \u001b[38;5;241m=\u001b[39m ar[perm]\n\u001b[0;32m    332\u001b[0m \u001b[38;5;28;01melse\u001b[39;00m:\n\u001b[1;32m--> 333\u001b[0m     \u001b[43mar\u001b[49m\u001b[38;5;241;43m.\u001b[39;49m\u001b[43msort\u001b[49m\u001b[43m(\u001b[49m\u001b[43m)\u001b[49m\n\u001b[0;32m    334\u001b[0m     aux \u001b[38;5;241m=\u001b[39m ar\n\u001b[0;32m    335\u001b[0m mask \u001b[38;5;241m=\u001b[39m np\u001b[38;5;241m.\u001b[39mempty(aux\u001b[38;5;241m.\u001b[39mshape, dtype\u001b[38;5;241m=\u001b[39mnp\u001b[38;5;241m.\u001b[39mbool_)\n",
      "\u001b[1;31mKeyboardInterrupt\u001b[0m: "
     ]
    }
   ],
   "source": [
    "#print(y_pred)\n",
    "print(f\"True Accidents: {np.count_nonzero(y_true)} True No Accidents: {len(y_true) - np.count_nonzero(y_true)}\")\n",
    "y_true = np.array(n3s_ruc[\"Total_Number_Incidents\"])\n",
    "best_min = 1000000\n",
    "lowest_mse = 1000000\n",
    "step_size = 0.0001\n",
    "for i in range(0, 1000):\n",
    "    y_pred = [1 if x > -i * step_size else 0 for x in np.array(n3s_ruc[\"RUC\"])]\n",
    "    if (saved_mse := mse(y_true, y_pred)) < lowest_mse:\n",
    "        lowest_mse = saved_mse\n",
    "        best_min = -i * step_size\n",
    "    print(f\"MSE:{saved_mse}\\n\")\n",
    "    conf = confusion_matrix(y_true, y_pred)\n",
    "    print(f\"True Negetive: {conf[0][0]}, False Positive: {conf[0][1]}\")\n",
    "    print(f\"False Negetive: {conf[1][0]}, True Positive: {conf[1][1]}\")\n",
    "print(\"Best Min\", best_min)"
   ]
  },
  {
   "cell_type": "markdown",
   "metadata": {},
   "source": [
    "### 3-step sliding frame dataset ###"
   ]
  },
  {
   "cell_type": "code",
   "execution_count": 3,
   "metadata": {},
   "outputs": [],
   "source": [
    "# Filtered data and count (.shape)\n",
    "df_3step = df_3step[(df_3step[\"sliding_frame\"] == 3) & (df_3step[\"kappa\"] == 0.25)]\n",
    "\n",
    "# Positive (3, 0.25)\n",
    "p3s_ruc = df_3step[df_3step[\"RUC\"] > 0]\n",
    "n_p = p3s_ruc.shape[0]\n",
    "\n",
    "# Negative (3, 0.25)\n",
    "n3s_ruc = df_3step[df_3step[\"RUC\"] < 0]\n",
    "n_n = n3s_ruc.shape[0]\n",
    "\n",
    "x1 = np.array(range(0,n_p)).reshape(-1,1)\n",
    "y1 = np.array(p3s_ruc[\"Total_Number_Incidents\"])\n",
    "\n",
    "\n",
    "\n",
    "# Residual derived from difference in predicted and true\n",
    "# Logistic Regression with 70/30 train-test-split\n",
    "\n",
    "x_train, x_test, y_train, y_test = train_test_split(x1,y1, test_size=0.3)\n",
    "\n",
    "LR.fit(x_train, y_train)\n",
    "y_hat1 = LR.predict(x_test)\n",
    "\n",
    "# res = y1-y_hat1\n",
    "\n",
    "\n",
    "# / We perform our machine learning models, and check its performance using the loss functions /\n",
    "# We are doing a binary classification-type problem.\n",
    "# We can study certain RUC values.? (confused)"
   ]
  },
  {
   "cell_type": "code",
   "execution_count": 4,
   "metadata": {},
   "outputs": [
    {
     "data": {
      "text/plain": [
       "array([[    0],\n",
       "       [    1],\n",
       "       [    2],\n",
       "       ...,\n",
       "       [21017],\n",
       "       [21018],\n",
       "       [21019]])"
      ]
     },
     "execution_count": 4,
     "metadata": {},
     "output_type": "execute_result"
    }
   ],
   "source": [
    "# /Testing window /\n",
    "\n",
    "\n",
    "# df_3step.to_csv('merged.csv', index = False)\n",
    "# p3s_ruc.to_csv('merged.csv', index = False)\n",
    "\n",
    "# p3s_ruc.head()\n",
    "x1"
   ]
  },
  {
   "cell_type": "code",
   "execution_count": 5,
   "metadata": {},
   "outputs": [
    {
     "name": "stdout",
     "output_type": "stream",
     "text": [
      "We expect to be able to detect 95.0% of accidents if we treat all RUCs higher than 0.15 as accidents.\n"
     ]
    }
   ],
   "source": [
    "df = df_3step[df_3step[\"Total_Number_Incidents\"] > 0]\n",
    "NAME_OF_PREDICTION_VARIABLE = \"RUC\"\n",
    "PERCENT_OF_ACCIDENTS_DETECTED = 0.95\n",
    "ruc = round(df.quantile(PERCENT_OF_ACCIDENTS_DETECTED)[NAME_OF_PREDICTION_VARIABLE], 3)\n",
    "print(f\"We expect to be able to detect {PERCENT_OF_ACCIDENTS_DETECTED * 100}% of accidents if we treat all RUCs higher than {ruc} as accidents.\")"
   ]
  },
  {
   "cell_type": "markdown",
   "metadata": {
    "pycharm": {
     "name": "#%% md\n"
    }
   },
   "source": [
    "**Loss Functions and M-estimators**"
   ]
  }
 ],
 "metadata": {
  "interpreter": {
   "hash": "40b299b9aa05c7aba1edee11e23fdf4ea17c4f193bd7a6be3fc875fc5c6ea0ab"
  },
  "kernelspec": {
   "display_name": "Python 3 (ipykernel)",
   "language": "python",
   "name": "python3"
  },
  "language_info": {
   "codemirror_mode": {
    "name": "ipython",
    "version": 3
   },
   "file_extension": ".py",
   "mimetype": "text/x-python",
   "name": "python",
   "nbconvert_exporter": "python",
   "pygments_lexer": "ipython3",
   "version": "3.10.4"
  }
 },
 "nbformat": 4,
 "nbformat_minor": 2
}
